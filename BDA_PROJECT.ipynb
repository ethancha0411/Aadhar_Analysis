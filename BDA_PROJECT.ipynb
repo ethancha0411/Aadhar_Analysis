{
 "cells": [
  {
   "cell_type": "code",
   "execution_count": 3,
   "metadata": {},
   "outputs": [],
   "source": [
    "import findspark\n",
    "findspark.init()"
   ]
  },
  {
   "cell_type": "code",
   "execution_count": 4,
   "metadata": {},
   "outputs": [],
   "source": [
    "\n",
    "from pyspark.sql import SparkSession\n",
    "from pyspark import SparkContext\n",
    "from pyspark.sql import SQLContext\n",
    "from pyspark.sql.types import DateType, TimestampType, IntegerType, FloatType, LongType, DoubleType,StringType\n",
    "from pyspark.sql.types import StructType, StructField\n",
    "import matplotlib.pyplot as plt\n",
    "import pandas as pd\n",
    "import numpy as np"
   ]
  },
  {
   "cell_type": "code",
   "execution_count": 5,
   "metadata": {},
   "outputs": [],
   "source": [
    "spark = SparkSession.builder \\\n",
    "       .master(\"local\") \\\n",
    "       .enableHiveSupport() \\\n",
    "       .appName(\"Spark ML\") \\\n",
    "       .getOrCreate()\n",
    "sc = spark.sparkContext\n",
    "sqlContext = SQLContext(sc)\n"
   ]
  },
  {
   "cell_type": "code",
   "execution_count": 6,
   "metadata": {},
   "outputs": [],
   "source": [
    "Custom_schema = StructType([StructField('_c0',StringType()),\n",
    "                           StructField('_c1', StringType(), True),\n",
    "                           StructField('_c2', StringType(), True),\n",
    "                           StructField('_c3', StringType(), True),\n",
    "                           StructField('_c4', StringType(), True),\n",
    "                           StructField('_c5', IntegerType(), True),\n",
    "                            StructField('_c6', StringType(), True),\n",
    "                           StructField('_c7', IntegerType(), True),\n",
    "                           StructField('_c8', IntegerType(), True),\n",
    "                           StructField('_c9', IntegerType(), True),\n",
    "                           StructField('_c10', IntegerType(), True),\n",
    "                            StructField('_c11', IntegerType(), True)]\n",
    "                            )\n",
    "\n",
    "\n"
   ]
  },
  {
   "cell_type": "code",
   "execution_count": 7,
   "metadata": {},
   "outputs": [],
   "source": [
    "\n",
    "df = spark.read.csv('abc.csv', header=True, schema=Custom_schema,  sep=',')\n",
    "df.head()\n",
    "df = (df\n",
    "   .withColumnRenamed('_c0','Registrar')\n",
    "   .withColumnRenamed('_c1', 'agency')\n",
    "   .withColumnRenamed('_c2', 'State')\n",
    "   .withColumnRenamed('_c3', 'District')\n",
    "    .withColumnRenamed('_c4', 'SubDistrict')\n",
    "    .withColumnRenamed('_c5','PinCode')\n",
    "   .withColumnRenamed('_c6', 'Gender')\n",
    "   .withColumnRenamed('_c7', 'Age')\n",
    "   .withColumnRenamed('_c8', 'generated')\n",
    "    .withColumnRenamed('_c9', 'rejected')\n",
    "    .withColumnRenamed('_c10', 'email')\n",
    "    .withColumnRenamed('_c11', 'mobile')\n",
    "   \n",
    "      \n",
    "    )\n"
   ]
  },
  {
   "cell_type": "code",
   "execution_count": 8,
   "metadata": {},
   "outputs": [
    {
     "data": {
      "text/plain": [
       "pyspark.sql.dataframe.DataFrame"
      ]
     },
     "execution_count": 8,
     "metadata": {},
     "output_type": "execute_result"
    }
   ],
   "source": [
    "type(df)"
   ]
  },
  {
   "cell_type": "code",
   "execution_count": 9,
   "metadata": {},
   "outputs": [
    {
     "name": "stdout",
     "output_type": "stream",
     "text": [
      "root\n",
      " |-- Registrar: string (nullable = true)\n",
      " |-- agency: string (nullable = true)\n",
      " |-- State: string (nullable = true)\n",
      " |-- District: string (nullable = true)\n",
      " |-- SubDistrict: string (nullable = true)\n",
      " |-- PinCode: integer (nullable = true)\n",
      " |-- Gender: string (nullable = true)\n",
      " |-- Age: integer (nullable = true)\n",
      " |-- generated: integer (nullable = true)\n",
      " |-- rejected: integer (nullable = true)\n",
      " |-- email: integer (nullable = true)\n",
      " |-- mobile: integer (nullable = true)\n",
      "\n"
     ]
    }
   ],
   "source": [
    "df.printSchema()\n"
   ]
  },
  {
   "cell_type": "code",
   "execution_count": 10,
   "metadata": {},
   "outputs": [],
   "source": [
    "df.registerTempTable(\"data\")\n",
    "total_no_states = sqlContext.sql(\"SELECT COUNT (DISTINCT State) FROM data\").collect()\n",
    "total_no_males = sqlContext.sql(\"SELECT COUNT(Gender) FROM data WHERE Gender!='F' AND Gender!='T'\").collect()\n",
    "total_no_females =sqlContext.sql(\"SELECT COUNT(Gender) FROM data WHERE Gender!='M' and Gender!='T'\").collect()\n",
    "total_no_other= sqlContext.sql(\"SELECT COUNT(Gender) FROM data WHERE Gender!='F' AND Gender!='M'\").collect()\n",
    "\n",
    "\n",
    "each_state_male = sqlContext.sql(\"SELECT COUNT(Age),state FROM data WHERE GENDER =='M' GROUP BY state\").collect()\n",
    "each_state_female = sqlContext.sql(\"SELECT COUNT(Age),state FROM data WHERE GENDER =='F' GROUP BY state\").collect()\n"
   ]
  },
  {
   "cell_type": "code",
   "execution_count": 11,
   "metadata": {},
   "outputs": [],
   "source": [
    "state_name = []\n",
    "state_name1=[]\n",
    "total_count_male = []\n",
    "total_count_female = []\n",
    "for i in range(len(each_state_male)):\n",
    "    total_count_male.append(each_state_male[i][0])\n",
    "for j in range(len(each_state_male)):\n",
    "    state_name.append(each_state_male[j][1])\n",
    "    \n",
    "    \n",
    "\n",
    "\n",
    "for i in range(len(each_state_female)):\n",
    "    total_count_female.append(each_state_female[i][0])\n",
    "for j in range(len(each_state_female)):\n",
    "    state_name1.append(each_state_female[j][1])"
   ]
  },
  {
   "cell_type": "code",
   "execution_count": 12,
   "metadata": {},
   "outputs": [],
   "source": [
    "rejects = sqlContext.sql(\"SELECT State,count(rejected) as count FROM data WHERE rejected==1 group By State\").collect()\n",
    "\n",
    "count_of_rejects = sqlContext.sql(\"SELECT State,count(rejected) FROM data group by State\").collect()"
   ]
  },
  {
   "cell_type": "code",
   "execution_count": 13,
   "metadata": {},
   "outputs": [],
   "source": [
    "accepted = sqlContext.sql(\"SELECT State,count(generated) as count FROM data WHERE generated== 1 or generated==2 group By State\").collect()\n",
    "\n",
    "count_of_accepted = sqlContext.sql(\"SELECT State,sum(generated) FROM data group by state\").collect()"
   ]
  },
  {
   "cell_type": "code",
   "execution_count": 14,
   "metadata": {},
   "outputs": [
    {
     "data": {
      "text/plain": [
       "{'Bihar': 4602,\n",
       " 'West Bengal': 3900,\n",
       " 'Uttar Pradesh': 3892,\n",
       " 'Madhya Pradesh': 2785,\n",
       " 'Gujarat': 1732,\n",
       " 'Rajasthan': 1613,\n",
       " 'Maharashtra': 1581,\n",
       " 'Karnataka': 1286,\n",
       " 'Odisha': 1035,\n",
       " 'Tamil Nadu': 987}"
      ]
     },
     "execution_count": 14,
     "metadata": {},
     "output_type": "execute_result"
    }
   ],
   "source": [
    "count_of_max_rejection = sqlContext.sql(\"SELECT State,count(rejected) as c1 FROM data WHERE rejected==1 group by state order by c1 DESC LIMIT 10\").collect()\n",
    "dict(count_of_max_rejection)"
   ]
  },
  {
   "cell_type": "code",
   "execution_count": 15,
   "metadata": {},
   "outputs": [
    {
     "data": {
      "text/plain": [
       "[Row(State='Bihar', num=81776),\n",
       " Row(State='Uttar Pradesh', num=69476),\n",
       " Row(State='West Bengal', num=60483)]"
      ]
     },
     "execution_count": 15,
     "metadata": {},
     "output_type": "execute_result"
    }
   ],
   "source": [
    "sqlContext.sql(\"SELECT State, COUNT(*) AS num\" +\n",
    "              \" FROM (SELECT * FROM data WHERE Gender NOT IN ('T')) AS Temp \" +\n",
    "            \"GROUP BY State \" +\n",
    "            \"Order By num DESC \" +\n",
    "            \"LIMIT 3\").collect()"
   ]
  },
  {
   "cell_type": "code",
   "execution_count": 16,
   "metadata": {},
   "outputs": [
    {
     "data": {
      "text/plain": [
       "[Row(State='Bihar', num=26957),\n",
       " Row(State='West Bengal', num=24823),\n",
       " Row(State='Uttar Pradesh', num=21623)]"
      ]
     },
     "execution_count": 16,
     "metadata": {},
     "output_type": "execute_result"
    }
   ],
   "source": [
    "sqlContext.sql(\"SELECT State, COUNT(*) AS num\" +\n",
    "        \" FROM (SELECT * FROM data WHERE Gender =='F') AS Temp \" +\n",
    "        \"GROUP BY State \" +\n",
    "        \"Order By num DESC \" +\n",
    "        \"LIMIT 3\").collect()"
   ]
  },
  {
   "cell_type": "code",
   "execution_count": 17,
   "metadata": {},
   "outputs": [
    {
     "data": {
      "text/plain": [
       "[Row(State='Andaman and Nicobar Islands', num=2),\n",
       " Row(State='Lakshadweep', num=4),\n",
       " Row(State='Others', num=5)]"
      ]
     },
     "execution_count": 17,
     "metadata": {},
     "output_type": "execute_result"
    }
   ],
   "source": [
    "sqlContext.sql(\"SELECT State, COUNT(*) AS num\" +\n",
    "        \" FROM (SELECT * FROM data WHERE Gender =='M') AS Temp \" +\n",
    "        \"GROUP BY State \" +\n",
    "        \"Order By num ASC \" +\n",
    "        \"LIMIT 3\").collect()"
   ]
  },
  {
   "cell_type": "code",
   "execution_count": 18,
   "metadata": {},
   "outputs": [],
   "source": [
    "total_rejects=[]\n",
    "total_reject_states=[]\n",
    "total_count_rejects = []\n",
    "percentage_of_rejects = []\n",
    "\n",
    "\n",
    "\n",
    "for j in range(len(rejects)):\n",
    "    total_rejects.append(rejects[j][1])\n",
    "    total_count_rejects.append(count_of_rejects[j][1])\n",
    "\n",
    "    \n",
    "    \n",
    "    \n",
    "    \n"
   ]
  },
  {
   "cell_type": "code",
   "execution_count": 19,
   "metadata": {},
   "outputs": [],
   "source": [
    "for n in range(len(rejects)):\n",
    "    total_reject_states.append(rejects[n][0])\n",
    "    \n",
    "for i in range(len(rejects)):\n",
    "    percentage_of_rejects.append((total_rejects[i]/total_count_rejects[i])*100)"
   ]
  },
  {
   "cell_type": "code",
   "execution_count": 20,
   "metadata": {},
   "outputs": [],
   "source": [
    "total_accepted=[]\n",
    "total_accepted_states=[]\n",
    "total_count_accepted = []\n",
    "percentage_of_accepted = []\n",
    "for j in range(len(accepted)):\n",
    "    total_accepted.append(accepted[j][1])\n",
    "    total_count_accepted.append(count_of_accepted[j][1])\n",
    "    \n",
    "for n in range(len(accepted)):\n",
    "    total_accepted_states.append(accepted[n][0])\n",
    "    \n",
    "for i in range(len(total_accepted)):\n",
    "    percentage_of_accepted.append((total_accepted[i]/total_count_accepted[i])*100)\n",
    "    "
   ]
  },
  {
   "cell_type": "code",
   "execution_count": 21,
   "metadata": {},
   "outputs": [
    {
     "data": {
      "text/plain": [
       "36"
      ]
     },
     "execution_count": 21,
     "metadata": {},
     "output_type": "execute_result"
    }
   ],
   "source": [
    "len(total_reject_states)"
   ]
  },
  {
   "cell_type": "code",
   "execution_count": 22,
   "metadata": {},
   "outputs": [],
   "source": [
    "#agencies with max no of registrations\n",
    "md =sqlContext.sql(\"SELECT Registrar, SUM(generated) AS TotalAadharCount FROM data GROUP BY Registrar ORDER BY TotalAadharCount DESC LIMIT 3\").collect()\n"
   ]
  },
  {
   "cell_type": "code",
   "execution_count": 23,
   "metadata": {},
   "outputs": [],
   "source": [
    "#no of identities generated in each state for male and females\n",
    "md1 = sqlContext.sql(\"SELECT state, sum(generated) as TotalAadharCount FROM data WHERE Gender!='M' GROUP BY State ORDER BY TotalAadharCount DESC LIMIT 10\").collect()\n",
    "\n"
   ]
  },
  {
   "cell_type": "code",
   "execution_count": 24,
   "metadata": {},
   "outputs": [],
   "source": [
    "#state with maximum aadhar applicants\n",
    "highest_state=sqlContext.sql(\"SELECT COUNT(*),State FROM data GROUP BY State ORDER BY COUNT(*) DESC LIMIT 3\").collect()\n",
    "\n"
   ]
  },
  {
   "cell_type": "code",
   "execution_count": 25,
   "metadata": {},
   "outputs": [],
   "source": [
    "h_states = []\n",
    "total_count_states = []\n",
    "for i in range(len(highest_state)):\n",
    "    h_states.append(highest_state[i][0])\n",
    "for j in range(len(highest_state)):\n",
    "    total_count_states.append(highest_state[j][1])"
   ]
  },
  {
   "cell_type": "code",
   "execution_count": 26,
   "metadata": {},
   "outputs": [],
   "source": [
    "#district with maximum aadhar applicants\n",
    "\n",
    "highest_district=sqlContext.sql(\"SELECT COUNT(*), District FROM data GROUP BY District ORDER BY COUNT(*) DESC LIMIT 3\").collect()\n",
    "\n"
   ]
  },
  {
   "cell_type": "code",
   "execution_count": 27,
   "metadata": {},
   "outputs": [],
   "source": [
    "h_district = []\n",
    "total_count_district = []\n",
    "for i in range(len(highest_state)):\n",
    "    h_district.append(highest_district[i][0])\n",
    "for j in range(len(highest_state)):\n",
    "    total_count_district.append(highest_district[j][1])"
   ]
  },
  {
   "cell_type": "code",
   "execution_count": 28,
   "metadata": {},
   "outputs": [],
   "source": [
    "total_mobile_registerd = sqlContext.sql(\"SELECT count(mobile) as count FROM data WHERE mobile==1 or mobile==2\").collect()\n",
    "total_mobile_not_registerd= sqlContext.sql(\"SELECT count(mobile) as count FROM data WHERE mobile==0\").collect()\n"
   ]
  },
  {
   "cell_type": "code",
   "execution_count": 29,
   "metadata": {},
   "outputs": [],
   "source": [
    "total_email_registerd = sqlContext.sql(\"SELECT count(email) as count FROM data WHERE email==1 or email==2\").collect()\n",
    "total_email_not_registerd= sqlContext.sql(\"SELECT count(email) as count FROM data WHERE email==0\").collect()\n"
   ]
  },
  {
   "cell_type": "code",
   "execution_count": 30,
   "metadata": {},
   "outputs": [],
   "source": [
    "states = []*len(md1)\n",
    "total_count1 = []*len(md1)\n",
    "for i in range(len(md1)):\n",
    "    states.append(md1[i][0])\n",
    "for j in range(len(md1)):\n",
    "    total_count1.append(md1[j][1])\n",
    "    \n",
    "    \n"
   ]
  },
  {
   "cell_type": "code",
   "execution_count": 31,
   "metadata": {},
   "outputs": [],
   "source": [
    "aadhar_company = []*len(md)\n",
    "total_count = []*len(md)\n",
    "for i in range(len(md)):\n",
    "    aadhar_company.append(md[i][0])\n",
    "for j in range(len(md)):\n",
    "    total_count.append(md[j][1])\n",
    "    \n",
    "    "
   ]
  },
  {
   "cell_type": "code",
   "execution_count": 32,
   "metadata": {},
   "outputs": [],
   "source": [
    "from bokeh.io import curdoc,export_png, export_svgs\n",
    "from bokeh.io import output_file, show\n",
    "from bokeh.palettes import Category20c\n",
    "from bokeh.plotting import figure\n",
    "from bokeh.transform import cumsum\n",
    "from bokeh.layouts import row\n",
    "from bokeh.layouts import column\n",
    "from math import pi\n",
    "from bokeh.models.widgets import Tabs, Panel \n",
    "from bokeh.models import Button\n",
    "from bokeh.models import CheckboxGroup, RadioGroup, Toggle\n",
    "from bokeh.models import NumeralTickFormatter\n",
    "from bokeh.models import ColumnDataSource, CDSView, GroupFilter\n",
    "from bokeh.models import Slider\n",
    "from bokeh.events import ButtonClick\n",
    "from bokeh.models import Button,CustomJS\n",
    "import math\n",
    "from bokeh.io import save\n",
    "from bokeh.palettes import Spectral6\n",
    "from bokeh.layouts import widgetbox\n",
    "from bokeh.models.widgets import Div\n",
    "from bokeh.models.widgets import Paragraph\n",
    "from bokeh.models.widgets import PreText\n",
    "from collections import Counter \n",
    "from bokeh.models import LayoutDOM"
   ]
  },
  {
   "cell_type": "code",
   "execution_count": 33,
   "metadata": {
    "scrolled": true
   },
   "outputs": [],
   "source": [
    "x = dict(md1)\n",
    "data = pd.Series(x).reset_index(name='value').rename(columns={'index':'country'})\n",
    "data['angle'] = data['value']/data['value'].sum() * 2*pi\n",
    "data['percent'] = data['value'] / sum(x.values()) * 100\n",
    "data['color'] = Category20c[len(x)]\n",
    "\n",
    "\n",
    "#pie chart Distribution of Population in each state\n",
    "p = figure(plot_height=400, title=\"Distribution of Population in Top 10 states\", toolbar_location=None,\n",
    "           tools=\"hover\", tooltips=[(\"country\", \"@country\"),(\"Percentage\", \"@percent{0.2f}%\")], x_range=(-0.5, 1.0),sizing_mode='scale_width')\n",
    "\n",
    "p.wedge(x=0, y=1, radius=0.4,\n",
    "        start_angle=cumsum('angle', include_zero=True), end_angle=cumsum('angle'),\n",
    "        line_color=\"white\", fill_color='color', legend='country', source=data)\n",
    "p.axis.axis_label=None\n",
    "p.axis.visible=False\n",
    "p.grid.grid_line_color = None\n",
    "\n",
    "\n",
    "\n",
    "\n",
    "\n",
    "#Top 3 Agencies with maximum number of Registrations\n",
    "p1 = figure(x_range=aadhar_company, y_range=[0,1000000], plot_height=350, title=\"Top 3 Agencies with Maximum no of registrations\",\n",
    "           toolbar_location=None, tools=\"\",sizing_mode='scale_width')\n",
    "p1.vbar(x=aadhar_company, top= total_count, width=0.8)\n",
    "p1.yaxis.formatter=NumeralTickFormatter(format=\"00\")\n",
    "p1.xgrid.grid_line_color = None\n",
    "p1.y_range.start = 0\n",
    "\n",
    "\n",
    "#Total Number of Males and Females in each State\n",
    "p2 = figure(x_range= state_name, y_range=[0,55000], plot_height=550, title=\"Total Number of Males and Females in Each State\",\n",
    "           toolbar_location=None, tools=\"\",sizing_mode='scale_width')\n",
    "p2.xaxis.axis_label = 'States'\n",
    "p2.yaxis.axis_label = 'Number of Population'\n",
    "\n",
    "p2.vbar(x= state_name, top= total_count_male, width=0.8,fill_color = \"green\",legend = 'male')\n",
    "p2.yaxis.formatter=NumeralTickFormatter(format=\"00\")\n",
    "p2.xgrid.grid_line_color = None\n",
    "p2.y_range.start = 0\n",
    "p2.xaxis.major_label_orientation = -45\n",
    "p2.vbar(x= state_name1, top= total_count_female, width=0.8,fill_color =\"blue\",legend= 'female')\n",
    "p2.yaxis.formatter=NumeralTickFormatter(format=\"00\")\n",
    "p2.xgrid.grid_line_color = None\n",
    "p2.y_range.start = 0\n",
    "p2.xaxis.major_label_orientation = -45\n",
    "\n",
    "\n",
    "\n",
    "#Total Number of Males, Females and others\n",
    "category = ['Male','Female','other']\n",
    "val = [292798, 148013, 7]\n",
    "p3 = figure(\n",
    "    x_range= category, \n",
    "    y_range=[0,500000], \n",
    "    plot_height=250, \n",
    "    title=\"Gender Distribution\",\n",
    "    toolbar_location=None,\n",
    "    tools=\"\",\n",
    "    sizing_mode='scale_width'\n",
    "  \n",
    "   \n",
    ")\n",
    "p3.xaxis.axis_label = 'Gender'\n",
    "p3.yaxis.axis_label = 'Population Value'\n",
    "p3.vbar(x= category, top = val, width=0.8,fill_color = ['blue','orange','black'])\n",
    "p3.yaxis.formatter=NumeralTickFormatter(format=\"00\")\n",
    "\n",
    "p3.xgrid.grid_line_color = None\n",
    "p3.y_range.start = 0\n",
    "\n",
    "#Ov\n",
    "p4 = figure(\n",
    "  y_range= total_reject_states,\n",
    "  title = '% of Rejection of Aadhar in each State',\n",
    "  x_axis_label ='',\n",
    "  plot_width=600,\n",
    "  plot_height=500,\n",
    "  tools=\"\",\n",
    "  sizing_mode='scale_width'  \n",
    " \n",
    ")\n",
    "p4.xaxis.axis_label = \"Percentage value of Rejection of Aadhar\"\n",
    "p4.yaxis.axis_label = \"States\"\n",
    "p4.hbar(\n",
    "    y=total_reject_states,\n",
    "    right= percentage_of_rejects,\n",
    "    left=0,\n",
    "    height=0.4,\n",
    "    color='red',\n",
    "    fill_alpha=0.5\n",
    ")\n",
    "\n",
    "\n",
    "p5 = figure(\n",
    "  y_range= total_accepted_states,\n",
    "  title ='% of Accepted of Aadhar in each State',\n",
    "  x_axis_label =\"\",\n",
    "  plot_width=600,\n",
    "  plot_height=500,\n",
    "  tools=\"\",\n",
    "  sizing_mode='scale_width'  \n",
    " \n",
    ")\n",
    "p5.xaxis.axis_label = \"Percentage value of Accepted Aadhar\"\n",
    "p5.yaxis.axis_label = \"States\"\n",
    "p5.hbar(\n",
    "    y=total_accepted_states,\n",
    "    right= percentage_of_accepted,\n",
    "    left=0,\n",
    "    height=0.4,\n",
    "    color='green',\n",
    "    fill_alpha=0.75\n",
    ")\n",
    "\n",
    "#percent of mobile registered \n",
    "\n",
    "val1 = Counter({\n",
    "    'Yes': total_mobile_registerd[0][0], 'No': total_mobile_not_registerd[0][0]\n",
    "})\n",
    "\n",
    "data = pd.DataFrame.from_dict(dict(val1), orient='index').reset_index().rename(index=str, columns={0:'value', 'index':'country'})\n",
    "data['angle'] = data['value']/sum(val1.values()) * 2*pi\n",
    "data['color'] = ['#6baed6', '#e6f598',]\n",
    "data['percent'] = data['value'] / sum(val1.values()) * 100\n",
    "# Plotting code\n",
    "\n",
    "p6 = figure(plot_height=350, toolbar_location=None, title ='% of total Mobile Registered',\n",
    "           tools=\"hover\",tooltips = [(\"Value\", \"@value\"),(\"Percentage\", \"@percent{0.2f}%\")],sizing_mode='scale_width')\n",
    "\n",
    "p6.annular_wedge(x=0, y=1, inner_radius=0.2, outer_radius=0.4,\n",
    "                start_angle=cumsum('angle', include_zero=True), end_angle=cumsum('angle'),\n",
    "                line_color=\"white\", fill_color='color', legend='country', source=data)\n",
    "\n",
    "\n",
    "p6.axis.axis_label=None\n",
    "p6.axis.visible=False\n",
    "p6.grid.grid_line_color = None\n",
    "\n",
    "\n",
    "#percent of email registered\n",
    "val2 = Counter({\n",
    "    'Registered': total_email_registerd[0][0], 'Not Registered': total_email_not_registerd[0][0]\n",
    "})\n",
    "\n",
    "data = pd.DataFrame.from_dict(dict(val2), orient='index').reset_index().rename(index=str, columns={0:'value', 'index':'country'})\n",
    "data['angle'] = data['value']/sum(val2.values()) * 2*pi\n",
    "data['color'] = [ '#fc8d59', '#d53e4f']\n",
    "data['percent'] = data['value'] / sum(val2.values()) * 100\n",
    "# Plotting code\n",
    "\n",
    "p7 = figure(plot_height=350, toolbar_location=None, title ='% of Accepted of Aadhar in each State',\n",
    "           tools=\"hover\",tooltips = [(\"Value\", \"@value\"),(\"Percentage\", \"@percent{0.2f}%\")],sizing_mode='scale_width')\n",
    "\n",
    "p7.annular_wedge(x=0, y=1, inner_radius=0.2, outer_radius=0.4,\n",
    "                start_angle=cumsum('angle', include_zero=True), end_angle=cumsum('angle'),\n",
    "                line_color=\"white\", fill_color='color', legend='country', source=data)\n",
    "\n",
    "\n",
    "p7.axis.axis_label=None\n",
    "p7.axis.visible= False\n",
    "p7.grid.grid_line_color = None\n",
    "\n"
   ]
  },
  {
   "cell_type": "code",
   "execution_count": 37,
   "metadata": {},
   "outputs": [],
   "source": [
    "div = Div(text= \"\"\"<b>Analysis of a dataset from Aadhaar- a unique identity\n",
    "issued to the residents of India by UIDAI</b>\"\"\", width=500, height=100,style={'font-size': '120%', 'color': 'black','text-align':'center','background-color':'#FFFF99'})\n",
    "\n",
    "div1 = Div(text=\"\"\"<i>Aadhaar is a unique identity issued to all the\n",
    "residents of India by UIDAI. The dataset provided by\n",
    "the authority is “Enrollments processed in detail”,\n",
    "which contains following columns: Registrar,\n",
    "Enrollment Agency, State, District, Sub District, Pin\n",
    "Code, Age, Gender, Aadhaar Generated, Enrollment\n",
    "Rejected, Email And Mobile Number.</i><br></br>\"\"\", width=500, height=200,style={'font-size': '120%', 'color': 'black','text-align':'center'})\n",
    "\n",
    "div2 = Div(text=\"\"\" <ul>\n",
    "<li>Distribution of Population in each state</li>\n",
    "<li>Top 3 Agencies with maximum number of Registrations</li>\n",
    "<li>Total Number of Males, Females and others</li>\n",
    "<li>Percentage of Rejection of Aadhar in each State</li>\n",
    "<li>Percentage of Acception of Aadhar in each State</li>\n",
    "<li>Percent of Mobile Number registered</li>\n",
    "<li>Percent of Email-id registered</li>\n",
    "\n",
    "\n",
    "</ul>\"\"\",width=500, height=100,style={'font-size': '100%', 'color': 'black'})\n",
    "\n",
    "div3 = Div(text=\"\"\" <ul>\n",
    "<li>Distribution of Population in each state</li>\n",
    "<li>Top 3 Agencies with maximum number of Registrations</li>\n",
    "<li>Total Number of Males, Females and others</li>\n",
    "<li>Percentage of Rejection of Aadhar in each State</li>\n",
    "<li>Percentage of Acception of Aadhar in each State</li>\n",
    "<li>Percent of Mobile Number registered</li>\n",
    "<li>Percent of Email-id registered</li>\n",
    "\n",
    "\n",
    "</ul>\"\"\",width=500, height=100,style={'font-size': '100%', 'color': 'black','margin': '-100px'})\n",
    "\n",
    "x_range = (-10,-5) # could be anything - e.g.(0,1)\n",
    "y_range = (10,20)\n",
    "p9 = figure(x_range=x_range, y_range=y_range)\n",
    "#img_path = 'https://bokeh.pydata.org/en/latest/_static/images/logo.png'\n",
    "img_path = 'aadharlogo.png'\n",
    "p9.image_url(url=[img_path],x=x_range[0],y=y_range[1],w=x_range[1]-x_range[0],h=y_range[1]-y_range[0])\n",
    "p9.axis.visible = False\n",
    "p9.grid.grid_line_color = None\n",
    "p9.axis.axis_label=None\n",
    "p9.toolbar.autohide =True\n",
    "\n",
    "p8 = figure(x_range=x_range, y_range=y_range)\n",
    "#img_path = 'https://bokeh.pydata.org/en/latest/_static/images/logo.png'\n",
    "img_path = 'info.png'\n",
    "p8.image_url(url=[img_path],x=x_range[0],y=y_range[1],w=x_range[1]-x_range[0],h=y_range[1]-y_range[0])\n",
    "p8.axis.visible = False\n",
    "p8.grid.grid_line_color = None\n",
    "p8.axis.axis_label=None\n",
    "p8.toolbar.autohide =True\n",
    "\n",
    "front = Panel(child= row(p8,p9),title='0')\n",
    "first =Panel(child= row(p,p1), title='1')\n",
    "second = Panel(child= row(p2,p3), title='2')\n",
    "third = Panel(child= row(p4,p5), title='3')\n",
    "four = Panel(child=row(p6,p7),title='4')\n",
    "#tabs=Tabs(tabs=[Panel(title=str(i),child = column(1,2,3))])\n",
    "tabs = Tabs(tabs=[front,first, second,third,four])\n",
    "\n",
    "\n",
    "curdoc().add_root(column(tabs))\n",
    "output_file('tabbed.html')\n",
    "show(tabs)\n"
   ]
  }
 ],
 "metadata": {
  "kernelspec": {
   "display_name": "Python 3",
   "language": "python",
   "name": "python3"
  },
  "language_info": {
   "codemirror_mode": {
    "name": "ipython",
    "version": 3
   },
   "file_extension": ".py",
   "mimetype": "text/x-python",
   "name": "python",
   "nbconvert_exporter": "python",
   "pygments_lexer": "ipython3",
   "version": "3.7.3"
  }
 },
 "nbformat": 4,
 "nbformat_minor": 2
}
