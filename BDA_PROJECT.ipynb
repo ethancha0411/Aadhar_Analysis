{
 "cells": [
  {
   "cell_type": "code",
   "execution_count": 8,
   "metadata": {},
   "outputs": [],
   "source": [
    "import findspark\n",
    "\n",
    "findspark.init()"
   ]
  },
  {
   "cell_type": "code",
   "execution_count": 9,
   "metadata": {},
   "outputs": [],
   "source": [
    "\n",
    "from pyspark.sql import SparkSession\n",
    "from pyspark import SparkContext\n",
    "from pyspark.sql import SQLContext\n",
    "from pyspark.sql.types import DateType, TimestampType, IntegerType, FloatType, LongType, DoubleType,StringType\n",
    "from pyspark.sql.types import StructType, StructField\n",
    "import matplotlib.pyplot as plt\n",
    "import pandas as pd\n",
    "import numpy as np"
   ]
  },
  {
   "cell_type": "code",
   "execution_count": 10,
   "metadata": {},
   "outputs": [],
   "source": [
    "spark = SparkSession.builder \\\n",
    "       .master(\"local\") \\\n",
    "       .enableHiveSupport() \\\n",
    "       .appName(\"Spark ML\") \\\n",
    "       .getOrCreate()\n",
    "sc = spark.sparkContext\n",
    "sqlContext = SQLContext(sc)"
   ]
  },
  {
   "cell_type": "code",
   "execution_count": 11,
   "metadata": {},
   "outputs": [],
   "source": [
    "\n",
    "\n",
    "\n",
    "Custom_schema = StructType([StructField('_c0',StringType()),\n",
    "                           StructField('_c1', StringType(), True),\n",
    "                           StructField('_c2', StringType(), True),\n",
    "                           StructField('_c3', StringType(), True),\n",
    "                           StructField('_c4', StringType(), True),\n",
    "                           StructField('_c5', IntegerType(), True),\n",
    "                            StructField('_c6', StringType(), True),\n",
    "                           StructField('_c7', IntegerType(), True),\n",
    "                           StructField('_c8', IntegerType(), True),\n",
    "                           StructField('_c9', IntegerType(), True),\n",
    "                           StructField('_c10', IntegerType(), True),\n",
    "                            StructField('_c11', IntegerType(), True)]\n",
    "                            )\n",
    "\n",
    "\n"
   ]
  },
  {
   "cell_type": "code",
   "execution_count": 12,
   "metadata": {},
   "outputs": [],
   "source": [
    "\n",
    "df = spark.read.csv('abc.csv', header=True, schema=Custom_schema,  sep=',')\n",
    "df.head()\n",
    "df = (df\n",
    "   .withColumnRenamed('_c0','Registrar')\n",
    "   .withColumnRenamed('_c1', 'agency')\n",
    "   .withColumnRenamed('_c2', 'State')\n",
    "   .withColumnRenamed('_c3', 'District')\n",
    "    .withColumnRenamed('_c4', 'SubDistrict')\n",
    "    .withColumnRenamed('_c5','PinCode')\n",
    "   .withColumnRenamed('_c6', 'Gender')\n",
    "   .withColumnRenamed('_c7', 'Age')\n",
    "   .withColumnRenamed('_c8', 'generated')\n",
    "    .withColumnRenamed('_c9', 'rejected')\n",
    "    .withColumnRenamed('_c10', 'email')\n",
    "    .withColumnRenamed('_c11', 'mobile')\n",
    "   \n",
    "      \n",
    "          )\n"
   ]
  },
  {
   "cell_type": "code",
   "execution_count": 13,
   "metadata": {},
   "outputs": [
    {
     "name": "stdout",
     "output_type": "stream",
     "text": [
      "root\n",
      " |-- Registrar: string (nullable = true)\n",
      " |-- agency: string (nullable = true)\n",
      " |-- State: string (nullable = true)\n",
      " |-- District: string (nullable = true)\n",
      " |-- SubDistrict: string (nullable = true)\n",
      " |-- PinCode: integer (nullable = true)\n",
      " |-- Gender: string (nullable = true)\n",
      " |-- Age: integer (nullable = true)\n",
      " |-- generated: integer (nullable = true)\n",
      " |-- rejected: integer (nullable = true)\n",
      " |-- email: integer (nullable = true)\n",
      " |-- mobile: integer (nullable = true)\n",
      "\n"
     ]
    }
   ],
   "source": [
    "df.printSchema()\n"
   ]
  },
  {
   "cell_type": "code",
   "execution_count": 14,
   "metadata": {},
   "outputs": [
    {
     "name": "stdout",
     "output_type": "stream",
     "text": [
      "+--------------------+\n",
      "|               State|\n",
      "+--------------------+\n",
      "|Andaman and Nicob...|\n",
      "|      Andhra Pradesh|\n",
      "|   Arunachal Pradesh|\n",
      "|               Assam|\n",
      "|               Bihar|\n",
      "|          Chandigarh|\n",
      "|        Chhattisgarh|\n",
      "|Dadra and Nagar H...|\n",
      "|       Daman and Diu|\n",
      "|               Delhi|\n",
      "|                 Goa|\n",
      "|             Gujarat|\n",
      "|             Haryana|\n",
      "|    Himachal Pradesh|\n",
      "|   Jammu and Kashmir|\n",
      "|           Jharkhand|\n",
      "|           Karnataka|\n",
      "|              Kerala|\n",
      "|         Lakshadweep|\n",
      "|      Madhya Pradesh|\n",
      "|         Maharashtra|\n",
      "|             Manipur|\n",
      "|           Meghalaya|\n",
      "|             Mizoram|\n",
      "|            Nagaland|\n",
      "|              Odisha|\n",
      "|              Others|\n",
      "|          Puducherry|\n",
      "|              Punjab|\n",
      "|           Rajasthan|\n",
      "|              Sikkim|\n",
      "|          Tamil Nadu|\n",
      "|           Telangana|\n",
      "|             Tripura|\n",
      "|       Uttar Pradesh|\n",
      "|         Uttarakhand|\n",
      "|         West Bengal|\n",
      "+--------------------+\n",
      "\n",
      "+-------------+\n",
      "|count(Gender)|\n",
      "+-------------+\n",
      "|       292798|\n",
      "+-------------+\n",
      "\n",
      "+-------------+\n",
      "|count(Gender)|\n",
      "+-------------+\n",
      "|       148013|\n",
      "+-------------+\n",
      "\n",
      "+-------------+\n",
      "|count(Gender)|\n",
      "+-------------+\n",
      "|            7|\n",
      "+-------------+\n",
      "\n"
     ]
    }
   ],
   "source": [
    "df.registerTempTable(\"data\")\n",
    "sqlContext.sql(\"SELECT DISTINCT State FROM data ORDER BY State ASC\").show(37)\n",
    "sqlContext.sql(\"SELECT COUNT(Gender) FROM data WHERE Gender!='F' AND Gender!='T'\").show()\n",
    "sqlContext.sql(\"SELECT COUNT(Gender) FROM data WHERE Gender!='M' and Gender!='T'\").show()\n",
    "sqlContext.sql(\"SELECT COUNT(Gender) FROM data WHERE Gender!='F' AND Gender!='M'\").show()\n"
   ]
  },
  {
   "cell_type": "code",
   "execution_count": 15,
   "metadata": {},
   "outputs": [],
   "source": [
    "#agencies with max no of registrations\n",
    "md = sqlContext.sql(\"SELECT Registrar, SUM(generated) AS TotalAadharCount FROM data GROUP BY Registrar ORDER BY TotalAadharCount DESC LIMIT 3\").collect()\n"
   ]
  },
  {
   "cell_type": "code",
   "execution_count": 16,
   "metadata": {},
   "outputs": [
    {
     "data": {
      "text/plain": [
       "[Row(state='Bihar', TotalAadharCount=162607),\n",
       " Row(state='West Bengal', TotalAadharCount=119901),\n",
       " Row(state='Uttar Pradesh', TotalAadharCount=103767),\n",
       " Row(state='Madhya Pradesh', TotalAadharCount=53276),\n",
       " Row(state='Rajasthan', TotalAadharCount=39570),\n",
       " Row(state='Gujarat', TotalAadharCount=34844),\n",
       " Row(state='Tamil Nadu', TotalAadharCount=32485),\n",
       " Row(state='Maharashtra', TotalAadharCount=26085),\n",
       " Row(state='Karnataka', TotalAadharCount=19764),\n",
       " Row(state='Odisha', TotalAadharCount=18182)]"
      ]
     },
     "execution_count": 16,
     "metadata": {},
     "output_type": "execute_result"
    }
   ],
   "source": [
    "#no of identities generated in each state\n",
    "sqlContext.sql(\"SELECT state, sum(generated) as TotalAadharCount FROM data GROUP BY State ORDER BY TotalAadharCount DESC LIMIT 10\").collect()"
   ]
  },
  {
   "cell_type": "code",
   "execution_count": 18,
   "metadata": {},
   "outputs": [],
   "source": [
    "#no of identities generated in each state for male and females\n",
    "md1 = sqlContext.sql(\"SELECT state, sum(generated) as TotalAadharCount FROM data WHERE Gender!='T' GROUP BY State ORDER BY TotalAadharCount DESC LIMIT 10\").collect()\n",
    "\n"
   ]
  },
  {
   "cell_type": "code",
   "execution_count": 19,
   "metadata": {},
   "outputs": [],
   "source": [
    "states = []*len(md1)\n",
    "total_count1 = []*len(md1)\n",
    "for i in range(len(md1)):\n",
    "    states.append(md1[i][0])\n",
    "for j in range(len(md1)):\n",
    "    total_count1.append(md1[j][1])\n",
    "    \n",
    "    \n"
   ]
  },
  {
   "cell_type": "code",
   "execution_count": 20,
   "metadata": {},
   "outputs": [],
   "source": [
    "aadhar_company = []*len(md)\n",
    "total_count = []*len(md)\n",
    "for i in range(len(md)):\n",
    "    aadhar_company.append(md[i][0])\n",
    "for j in range(len(md)):\n",
    "    total_count.append(md[j][1])\n",
    "    \n",
    "    \n",
    "  "
   ]
  },
  {
   "cell_type": "code",
   "execution_count": 22,
   "metadata": {},
   "outputs": [],
   "source": [
    "import tkinter as tk\n",
    "from matplotlib.backends.backend_tkagg import FigureCanvasTkAgg\n",
    "from matplotlib.figure import Figure\n",
    "from tkinter import *\n",
    "window = Tk()\n",
    "window.title(\"Welcome\")\n",
    "\n",
    "def plot():\n",
    "    window1 = tk.Toplevel(window)\n",
    "    fig = Figure(figsize=(6,6))\n",
    "    a = fig.add_subplot(111)\n",
    "    a.bar(aadhar_company,total_count,color=['blue', 'red', 'green'])\n",
    "\n",
    "\n",
    "    a.set_title (\"Estimation Grid\", fontsize=16)\n",
    "    a.set_ylabel(\"Y\", fontsize=14)\n",
    "    a.set_xlabel(\"X\", fontsize=10)\n",
    "    a.set_xticks(aadhar_company)\n",
    "    canvas = FigureCanvasTkAgg(fig, master= window1)\n",
    "    canvas.get_tk_widget().pack()\n",
    "    canvas.draw()\n",
    "    button = Button(window1, text=\"Exit\", command=window1.destroy)\n",
    "    button.pack(side=BOTTOM, pady = 10)\n",
    "    \n",
    "    \n",
    "def piechart():\n",
    "    window2 = tk.Toplevel(window)\n",
    "    explode = (0, 0.1, 0, 0.1,0,0,0,0,0.1,0.1)  # only \"explode\" the 2nd slice (i.e. 'Hogs')\n",
    "    fig = Figure(figsize=(7,7))\n",
    "    ax1 = fig.add_subplot(111)\n",
    "    ax1.set_title(\"Top 10 states with Maximum Aadhar generated\\n\", fontsize=10,horizontalalignment='center', verticalalignment='top')\n",
    "    ax1.pie(total_count1, explode=explode, labels=states, autopct='%1.1f%%',shadow=True, startangle=90)\n",
    "    \n",
    "    ax1.axis('equal')# Equal aspect ratio ensures that pie is drawn as a circle.\n",
    "    \n",
    "    canvas = FigureCanvasTkAgg(fig, master= window2)\n",
    "    canvas.get_tk_widget().pack()\n",
    "    canvas.draw()\n",
    "    button = Button(window2, text=\"Exit\", height= 1 , width = 6, command=window2.destroy)\n",
    "    button.pack(side=BOTTOM, pady = 10)\n",
    "\n",
    "\n",
    "\n",
    "save = Button(window, text = 'PLOT',height = 1,width=6, command = plot) \n",
    "save.pack(side = RIGHT, pady = 10) \n",
    "save1 = Button(window, text = 'pie',height=1,width=6, command = piechart) \n",
    "save1.pack(side = RIGHT, pady = 15)\n",
    "button = Button(window, text=\"Exit\", height=1, width=6, command=window.destroy)\n",
    "button.place(relx = 0.5, rely = 0.5, anchor = CENTER) \n",
    "window.geometry(\"400x400\")\n",
    "window.configure(background='grey')\n",
    "window.mainloop()"
   ]
  },
  {
   "cell_type": "code",
   "execution_count": 22,
   "metadata": {},
   "outputs": [],
   "source": [
    "from bokeh.io import curdoc\n",
    "from bokeh.io import output_file, show\n",
    "from bokeh.palettes import Category20c\n",
    "from bokeh.plotting import figure\n",
    "from bokeh.transform import cumsum\n",
    "from bokeh.layouts import row\n",
    "from bokeh.layouts import column\n",
    "from math import pi\n",
    "from bokeh.models.widgets import Tabs, Panel \n",
    "from bokeh.models import Button\n",
    "from bokeh.models import CheckboxGroup, RadioGroup, Toggle\n",
    "from bokeh.models import NumeralTickFormatter\n",
    "from bokeh.models import ColumnDataSource, CDSView, GroupFilter"
   ]
  },
  {
   "cell_type": "code",
   "execution_count": 23,
   "metadata": {},
   "outputs": [],
   "source": [
    "x = dict(md1)\n",
    "data = pd.Series(x).reset_index(name='value').rename(columns={'index':'country'})\n",
    "data['angle'] = data['value']/data['value'].sum() * 2*pi\n",
    "data['percent'] = data['value'] / sum(x.values()) * 100\n",
    "        \n",
    "data['color'] = Category20c[len(x)]\n",
    "\n",
    "p = figure(plot_height=350, title=\"Pie Chart\", toolbar_location=None,\n",
    "           tools=\"hover\", tooltips=\"@country: @value\", x_range=(-0.5, 1.0))\n",
    "\n",
    "p.wedge(x=0, y=1, radius=0.4,\n",
    "        start_angle=cumsum('angle', include_zero=True), end_angle=cumsum('angle'),\n",
    "        line_color=\"white\", fill_color='color', legend='country', source=data)\n",
    "\n",
    "p1 = figure(x_range=aadhar_company, y_range=[0,1000000], plot_height=250, title=\"Agencies with max no of registrations\",\n",
    "           toolbar_location=None, tools=\"\")\n",
    "\n",
    "p1.vbar(x=aadhar_company, top= total_count, width=0.8)\n",
    "p1.yaxis.formatter=NumeralTickFormatter(format=\"00\")\n",
    "p1.xgrid.grid_line_color = None\n",
    "p1.y_range.start = 0\n",
    "\n",
    "\n",
    "\n",
    "p.axis.axis_label=None\n",
    "p.axis.visible=False\n",
    "p.grid.grid_line_color = None\n",
    "toggle = Toggle(label='Toggle button',button_type='success')\n",
    "\n",
    "# Add a CheckboxGroup: checkbox\n",
    "checkbox = CheckboxGroup(labels=['Option 1', 'Option 2', 'Option 3'])\n",
    "\n",
    "\n",
    "first =Panel(child= column(p,toggle,checkbox), title='Top 10 states')\n",
    "second = Panel(child= p1, title='second')\n",
    "tabs = Tabs(tabs=[first, second])\n",
    "output_file('tabbed.html')\n",
    "\n",
    "curdoc().add_root(tabs)\n",
    "\n",
    "\n",
    "\n",
    "# Add widgetbox(toggle, checkbox, radio) to the current document\n",
    "\n",
    "show(tabs)\n"
   ]
  }
 ],
 "metadata": {
  "kernelspec": {
   "display_name": "Python 3",
   "language": "python",
   "name": "python3"
  },
  "language_info": {
   "codemirror_mode": {
    "name": "ipython",
    "version": 3
   },
   "file_extension": ".py",
   "mimetype": "text/x-python",
   "name": "python",
   "nbconvert_exporter": "python",
   "pygments_lexer": "ipython3",
   "version": "3.7.3"
  }
 },
 "nbformat": 4,
 "nbformat_minor": 2
}
