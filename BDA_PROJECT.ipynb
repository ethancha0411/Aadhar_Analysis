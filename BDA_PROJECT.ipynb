{
 "cells": [
  {
   "cell_type": "code",
   "execution_count": 1,
   "metadata": {},
   "outputs": [],
   "source": [
    "import findspark\n",
    "\n",
    "findspark.init()"
   ]
  },
  {
   "cell_type": "code",
   "execution_count": 2,
   "metadata": {},
   "outputs": [],
   "source": [
    "\n",
    "from pyspark.sql import SparkSession\n",
    "from pyspark import SparkContext\n",
    "from pyspark.sql import SQLContext\n",
    "from pyspark.sql.types import DateType, TimestampType, IntegerType, FloatType, LongType, DoubleType,StringType\n",
    "from pyspark.sql.types import StructType, StructField\n",
    "import matplotlib.pyplot as plt\n",
    "import pandas as pd\n",
    "import numpy as np"
   ]
  },
  {
   "cell_type": "code",
   "execution_count": 3,
   "metadata": {},
   "outputs": [],
   "source": [
    "spark = SparkSession.builder \\\n",
    "       .master(\"local\") \\\n",
    "       .enableHiveSupport() \\\n",
    "       .appName(\"Spark ML\") \\\n",
    "       .getOrCreate()\n",
    "sc = spark.sparkContext\n",
    "sqlContext = SQLContext(sc)"
   ]
  },
  {
   "cell_type": "code",
   "execution_count": 4,
   "metadata": {},
   "outputs": [],
   "source": [
    "\n",
    "\n",
    "\n",
    "Custom_schema = StructType([StructField('_c0',StringType()),\n",
    "                           StructField('_c1', StringType(), True),\n",
    "                           StructField('_c2', StringType(), True),\n",
    "                           StructField('_c3', StringType(), True),\n",
    "                           StructField('_c4', StringType(), True),\n",
    "                           StructField('_c5', IntegerType(), True),\n",
    "                            StructField('_c6', StringType(), True),\n",
    "                           StructField('_c7', IntegerType(), True),\n",
    "                           StructField('_c8', IntegerType(), True),\n",
    "                           StructField('_c9', IntegerType(), True),\n",
    "                           StructField('_c10', IntegerType(), True),\n",
    "                            StructField('_c11', IntegerType(), True)]\n",
    "                            )\n",
    "\n",
    "\n"
   ]
  },
  {
   "cell_type": "code",
   "execution_count": 5,
   "metadata": {},
   "outputs": [],
   "source": [
    "\n",
    "df = spark.read.csv('abc.csv', header=True, schema=Custom_schema,  sep=',')\n",
    "df.head()\n",
    "df = (df\n",
    "   .withColumnRenamed('_c0','Registrar')\n",
    "   .withColumnRenamed('_c1', 'agency')\n",
    "   .withColumnRenamed('_c2', 'State')\n",
    "   .withColumnRenamed('_c3', 'District')\n",
    "    .withColumnRenamed('_c4', 'SubDistrict')\n",
    "    .withColumnRenamed('_c5','PinCode')\n",
    "   .withColumnRenamed('_c6', 'Gender')\n",
    "   .withColumnRenamed('_c7', 'Age')\n",
    "   .withColumnRenamed('_c8', 'generated')\n",
    "    .withColumnRenamed('_c9', 'rejected')\n",
    "    .withColumnRenamed('_c10', 'email')\n",
    "    .withColumnRenamed('_c11', 'mobile')\n",
    "   \n",
    "      \n",
    "          )\n"
   ]
  },
  {
   "cell_type": "code",
   "execution_count": 6,
   "metadata": {},
   "outputs": [
    {
     "name": "stdout",
     "output_type": "stream",
     "text": [
      "root\n",
      " |-- Registrar: string (nullable = true)\n",
      " |-- agency: string (nullable = true)\n",
      " |-- State: string (nullable = true)\n",
      " |-- District: string (nullable = true)\n",
      " |-- SubDistrict: string (nullable = true)\n",
      " |-- PinCode: integer (nullable = true)\n",
      " |-- Gender: string (nullable = true)\n",
      " |-- Age: integer (nullable = true)\n",
      " |-- generated: integer (nullable = true)\n",
      " |-- rejected: integer (nullable = true)\n",
      " |-- email: integer (nullable = true)\n",
      " |-- mobile: integer (nullable = true)\n",
      "\n"
     ]
    }
   ],
   "source": [
    "df.printSchema()\n"
   ]
  },
  {
   "cell_type": "code",
   "execution_count": 7,
   "metadata": {},
   "outputs": [
    {
     "name": "stdout",
     "output_type": "stream",
     "text": [
      "+--------------------+\n",
      "|               State|\n",
      "+--------------------+\n",
      "|Andaman and Nicob...|\n",
      "|      Andhra Pradesh|\n",
      "|   Arunachal Pradesh|\n",
      "|               Assam|\n",
      "|               Bihar|\n",
      "|          Chandigarh|\n",
      "|        Chhattisgarh|\n",
      "|Dadra and Nagar H...|\n",
      "|       Daman and Diu|\n",
      "|               Delhi|\n",
      "|                 Goa|\n",
      "|             Gujarat|\n",
      "|             Haryana|\n",
      "|    Himachal Pradesh|\n",
      "|   Jammu and Kashmir|\n",
      "|           Jharkhand|\n",
      "|           Karnataka|\n",
      "|              Kerala|\n",
      "|         Lakshadweep|\n",
      "|      Madhya Pradesh|\n",
      "|         Maharashtra|\n",
      "|             Manipur|\n",
      "|           Meghalaya|\n",
      "|             Mizoram|\n",
      "|            Nagaland|\n",
      "|              Odisha|\n",
      "|              Others|\n",
      "|          Puducherry|\n",
      "|              Punjab|\n",
      "|           Rajasthan|\n",
      "|              Sikkim|\n",
      "|          Tamil Nadu|\n",
      "|           Telangana|\n",
      "|             Tripura|\n",
      "|       Uttar Pradesh|\n",
      "|         Uttarakhand|\n",
      "|         West Bengal|\n",
      "+--------------------+\n",
      "\n",
      "+-------------+\n",
      "|count(Gender)|\n",
      "+-------------+\n",
      "|       292798|\n",
      "+-------------+\n",
      "\n",
      "+-------------+\n",
      "|count(Gender)|\n",
      "+-------------+\n",
      "|       148013|\n",
      "+-------------+\n",
      "\n",
      "+-------------+\n",
      "|count(Gender)|\n",
      "+-------------+\n",
      "|            7|\n",
      "+-------------+\n",
      "\n"
     ]
    }
   ],
   "source": [
    "df.registerTempTable(\"data\")\n",
    "sqlContext.sql(\"SELECT DISTINCT State FROM data ORDER BY State ASC\").show(37)\n",
    "sqlContext.sql(\"SELECT COUNT(Gender) FROM data WHERE Gender!='F' AND Gender!='T'\").show()\n",
    "sqlContext.sql(\"SELECT COUNT(Gender) FROM data WHERE Gender!='M' and Gender!='T'\").show()\n",
    "sqlContext.sql(\"SELECT COUNT(Gender) FROM data WHERE Gender!='F' AND Gender!='M'\").show()\n"
   ]
  },
  {
   "cell_type": "code",
   "execution_count": null,
   "metadata": {},
   "outputs": [],
   "source": [
    "#agencies with max no of registrations\n",
    "md = sqlContext.sql(\"SELECT Registrar, SUM(generated) AS TotalAadharCount FROM data GROUP BY Registrar ORDER BY TotalAadharCount DESC LIMIT 3\").collect()\n",
    "md"
   ]
  },
  {
   "cell_type": "code",
   "execution_count": null,
   "metadata": {},
   "outputs": [],
   "source": [
    "#no of identities generated in each state\n",
    "sqlContext.sql(\"SELECT state, sum(generated) as TotalAadharCount FROM data GROUP BY State ORDER BY TotalAadharCount DESC LIMIT 10\").collect()"
   ]
  },
  {
   "cell_type": "code",
   "execution_count": null,
   "metadata": {},
   "outputs": [],
   "source": [
    "#no of identities generated in each state for male and females\n",
    "md1 = sqlContext.sql(\"SELECT state, sum(generated) as TotalAadharCount FROM data WHERE Gender!='T' GROUP BY State ORDER BY TotalAadharCount DESC LIMIT 10\").collect()\n",
    "md1\n"
   ]
  },
  {
   "cell_type": "code",
   "execution_count": null,
   "metadata": {},
   "outputs": [],
   "source": [
    "states = []*len(md1)\n",
    "total_count1 = []*len(md1)\n",
    "for i in range(len(md1)):\n",
    "    states.append(md1[i][0])\n",
    "for j in range(len(md1)):\n",
    "    total_count1.append(md1[j][1])\n",
    "    \n",
    "    \n"
   ]
  },
  {
   "cell_type": "code",
   "execution_count": null,
   "metadata": {},
   "outputs": [],
   "source": [
    "aadhar_company = []*len(md)\n",
    "total_count = []*len(md)\n",
    "for i in range(len(md)):\n",
    "    aadhar_company.append(md[i][0])\n",
    "for j in range(len(md)):\n",
    "    total_count.append(md[j][1])\n",
    "    \n",
    "    \n",
    "total_count    "
   ]
  },
  {
   "cell_type": "code",
   "execution_count": 7,
   "metadata": {},
   "outputs": [
    {
     "name": "stderr",
     "output_type": "stream",
     "text": [
      "Exception in Tkinter callback\n",
      "Traceback (most recent call last):\n",
      "  File \"C:\\ProgramData\\Anaconda3\\lib\\tkinter\\__init__.py\", line 1705, in __call__\n",
      "    return self.func(*args)\n",
      "  File \"<ipython-input-7-72a86e79d68e>\", line 32, in piechart\n",
      "    ax1.pie(total_count1, explode=explode, labels=states, autopct='%1.1f%%',shadow=True, startangle=90)\n",
      "NameError: name 'total_count1' is not defined\n"
     ]
    }
   ],
   "source": [
    "import tkinter as tk\n",
    "from matplotlib.backends.backend_tkagg import FigureCanvasTkAgg\n",
    "from matplotlib.figure import Figure\n",
    "from tkinter import *\n",
    "window = Tk()\n",
    "window.title(\"Welcome\")\n",
    "\n",
    "def plot():\n",
    "    window1 = tk.Toplevel(window)\n",
    "    fig = Figure(figsize=(6,6))\n",
    "    a = fig.add_subplot(111)\n",
    "    a.bar(aadhar_company,total_count,color=['blue', 'red', 'green'])\n",
    "\n",
    "\n",
    "    a.set_title (\"Estimation Grid\", fontsize=16)\n",
    "    a.set_ylabel(\"Y\", fontsize=14)\n",
    "    a.set_xlabel(\"X\", fontsize=10)\n",
    "    a.set_xticks(aadhar_company)\n",
    "    canvas = FigureCanvasTkAgg(fig, master= window1)\n",
    "    canvas.get_tk_widget().pack()\n",
    "    canvas.draw()\n",
    "    button = Button(window1, text=\"Exit\", command=window1.destroy)\n",
    "    button.pack(side=BOTTOM, pady = 10)\n",
    "    \n",
    "    \n",
    "def piechart():\n",
    "    window2 = tk.Toplevel(window)\n",
    "    explode = (0, 0.1, 0, 0.1,0,0,0,0,0.1,0.1)  # only \"explode\" the 2nd slice (i.e. 'Hogs')\n",
    "    fig = Figure(figsize=(7,7))\n",
    "    ax1 = fig.add_subplot(111)\n",
    "    ax1.set_title(\"Top 10 states with Maximum Aadhar generated\\n\", fontsize=10,horizontalalignment='center', verticalalignment='top')\n",
    "    ax1.pie(total_count1, explode=explode, labels=states, autopct='%1.1f%%',shadow=True, startangle=90)\n",
    "    ax1.axis('equal')# Equal aspect ratio ensures that pie is drawn as a circle.\n",
    "    \n",
    "    canvas = FigureCanvasTkAgg(fig, master= window2)\n",
    "    canvas.get_tk_widget().pack()\n",
    "    canvas.draw()\n",
    "    button = Button(window2, text=\"Exit\", height= 1 , width = 6, command=window2.destroy)\n",
    "    button.pack(side=BOTTOM, pady = 10)\n",
    "\n",
    "\n",
    "\n",
    "save = Button(window, text = 'PLOT',height = 1,width=6, command = plot) \n",
    "save.pack(side = RIGHT, pady = 10) \n",
    "save1 = Button(window, text = 'pie',height=1,width=6, command = piechart) \n",
    "save1.pack(side = RIGHT, pady = 15)\n",
    "button = Button(window, text=\"Exit\", height=1, width=6, command=window.destroy)\n",
    "button.place(relx = 0.5, rely = 0.5, anchor = CENTER) \n",
    "window.geometry(\"400x400\")\n",
    "window.configure(background='grey')\n",
    "window.mainloop()"
   ]
  }
 ],
 "metadata": {
  "kernelspec": {
   "display_name": "Python 3",
   "language": "python",
   "name": "python3"
  },
  "language_info": {
   "codemirror_mode": {
    "name": "ipython",
    "version": 3
   },
   "file_extension": ".py",
   "mimetype": "text/x-python",
   "name": "python",
   "nbconvert_exporter": "python",
   "pygments_lexer": "ipython3",
   "version": "3.7.3"
  }
 },
 "nbformat": 4,
 "nbformat_minor": 2
}
